{
 "cells": [
  {
   "cell_type": "code",
   "execution_count": 2,
   "metadata": {},
   "outputs": [],
   "source": [
    "import pandas as pd\n",
    "from gliner import GLiNER\n",
    "import spacy\n",
    "from tqdm.notebook import tqdm\n",
    "import pickle"
   ]
  },
  {
   "cell_type": "code",
   "execution_count": 3,
   "metadata": {},
   "outputs": [
    {
     "data": {
      "application/vnd.jupyter.widget-view+json": {
       "model_id": "51144a36c89f4a1b96dacc2e0cb1b6ad",
       "version_major": 2,
       "version_minor": 0
      },
      "text/plain": [
       "Fetching 4 files:   0%|          | 0/4 [00:00<?, ?it/s]"
      ]
     },
     "metadata": {},
     "output_type": "display_data"
    },
    {
     "data": {
      "application/vnd.jupyter.widget-view+json": {
       "model_id": "de03ab150bbf467fa39e4d0f80ae094d",
       "version_major": 2,
       "version_minor": 0
      },
      "text/plain": [
       "pytorch_model.bin:   0%|          | 0.00/611M [00:00<?, ?B/s]"
      ]
     },
     "metadata": {},
     "output_type": "display_data"
    },
    {
     "data": {
      "application/vnd.jupyter.widget-view+json": {
       "model_id": "96b924901c094807a103e0d66f3701b6",
       "version_major": 2,
       "version_minor": 0
      },
      "text/plain": [
       ".gitattributes:   0%|          | 0.00/1.52k [00:00<?, ?B/s]"
      ]
     },
     "metadata": {},
     "output_type": "display_data"
    },
    {
     "data": {
      "application/vnd.jupyter.widget-view+json": {
       "model_id": "48c3c4951fa24576a871e19db60ebccc",
       "version_major": 2,
       "version_minor": 0
      },
      "text/plain": [
       "README.md:   0%|          | 0.00/4.76k [00:00<?, ?B/s]"
      ]
     },
     "metadata": {},
     "output_type": "display_data"
    },
    {
     "data": {
      "application/vnd.jupyter.widget-view+json": {
       "model_id": "6b105e2738b24374823dfd0f4a6948e2",
       "version_major": 2,
       "version_minor": 0
      },
      "text/plain": [
       "gliner_config.json:   0%|          | 0.00/477 [00:00<?, ?B/s]"
      ]
     },
     "metadata": {},
     "output_type": "display_data"
    },
    {
     "data": {
      "application/vnd.jupyter.widget-view+json": {
       "model_id": "9f211b88404c4fb29bceed1d53eba1a0",
       "version_major": 2,
       "version_minor": 0
      },
      "text/plain": [
       "tokenizer_config.json:   0%|          | 0.00/52.0 [00:00<?, ?B/s]"
      ]
     },
     "metadata": {},
     "output_type": "display_data"
    },
    {
     "data": {
      "application/vnd.jupyter.widget-view+json": {
       "model_id": "64d66b70000146958ab52065f6b85581",
       "version_major": 2,
       "version_minor": 0
      },
      "text/plain": [
       "config.json:   0%|          | 0.00/578 [00:00<?, ?B/s]"
      ]
     },
     "metadata": {},
     "output_type": "display_data"
    },
    {
     "data": {
      "application/vnd.jupyter.widget-view+json": {
       "model_id": "b67d82c3fd9644e085afbbfac863d711",
       "version_major": 2,
       "version_minor": 0
      },
      "text/plain": [
       "spm.model:   0%|          | 0.00/2.46M [00:00<?, ?B/s]"
      ]
     },
     "metadata": {},
     "output_type": "display_data"
    },
    {
     "name": "stderr",
     "output_type": "stream",
     "text": [
      "/Users/megpatakota/Library/Caches/pypoetry/virtualenvs/graph-6ebOGMnL-py3.12/lib/python3.12/site-packages/transformers/convert_slow_tokenizer.py:558: UserWarning: The sentencepiece tokenizer that you are converting to a fast tokenizer uses the byte fallback option which is not implemented in the fast tokenizers. In practice this means that the fast version of the tokenizer can produce unknown tokens whereas the sentencepiece version would have converted these unknown tokens into a sequence of byte tokens matching the original piece of text.\n",
      "  warnings.warn(\n"
     ]
    },
    {
     "data": {
      "text/plain": [
       "<gliner_spacy.pipeline.GlinerSpacy at 0x169686360>"
      ]
     },
     "execution_count": 3,
     "metadata": {},
     "output_type": "execute_result"
    }
   ],
   "source": [
    "custom_spacy_config = { \"gliner_model\": \"urchade/gliner_small-v2.1\",\n",
    "                            \"chunk_size\": 250,\n",
    "                            \"labels\": [\"people\",\"company\",\"organization\",\"location\",\"date\",\"money\"],\n",
    "                            \"style\": \"dep\",\n",
    "                            \"threshold\": 0.5,\n",
    "                            \"map_location\": \"mps\"}\n",
    "nlp = spacy.blank(\"en\")\n",
    "nlp.add_pipe(\"gliner_spacy\", config=custom_spacy_config)"
   ]
  },
  {
   "cell_type": "code",
   "execution_count": 4,
   "metadata": {},
   "outputs": [],
   "source": [
    "df = pd.read_csv('Global-Cases-Export-2024-09-25.csv')\n",
    "\n",
    "df.columns = df.columns.str.lower().str.replace(' ', '_')\n",
    "# split at jurisdictions to jurisdictions_country, jurisdictions_region, jurisdictions_type given the > separator. Eg: 'Australia>New South Wales>Land and Environment Court'\n",
    "# Note: not all rows have all 3 values\n",
    "df[['jurisdictions_country', 'jurisdictions_region', 'jurisdictions_type']] = df['jurisdictions'].str.split('>',n=2, expand=True)\n",
    "df.head()\n",
    "df = df.sample(10)"
   ]
  },
  {
   "cell_type": "code",
   "execution_count": 5,
   "metadata": {},
   "outputs": [
    {
     "data": {
      "application/vnd.jupyter.widget-view+json": {
       "model_id": "4b7543d5b0a146e999198746ffec997f",
       "version_major": 2,
       "version_minor": 0
      },
      "text/plain": [
       "  0%|          | 0/85 [00:00<?, ?it/s]"
      ]
     },
     "metadata": {},
     "output_type": "display_data"
    },
    {
     "name": "stderr",
     "output_type": "stream",
     "text": [
      "Asking to truncate to max_length but no maximum length is provided and the model has no predefined maximum length. Default to no truncation.\n"
     ]
    }
   ],
   "source": [
    "def split_text_to_chunks(text, chunk_size=250):\n",
    "    return [text[i : i + chunk_size] for i in range(0, len(text), chunk_size)]\n",
    "\n",
    "\n",
    "chunk_nodes = []\n",
    "chunk_id = 1\n",
    "for index, row in df.iterrows():\n",
    "    text_chunks = split_text_to_chunks(row[\"summary\"], 250)\n",
    "    doc_id = row[\"id\"]\n",
    "    for chunk in text_chunks:\n",
    "        chunk_nodes.append({\"id\": chunk_id, \"doc_id\": doc_id, \"text\": chunk})\n",
    "        chunk_id += 1\n",
    "\n",
    "# for chunk in chunk_nodes:\n",
    "#     print(chunk)\n",
    "chunk_nodes\n",
    "\n",
    "\n",
    "def get_entities(text):\n",
    "    doc = nlp(text)\n",
    "    entities = []\n",
    "    for ent in doc.ents:\n",
    "        entities.append(\n",
    "            {\n",
    "                \"text\": ent.text,\n",
    "                \"start_char\": ent.start_char,\n",
    "                \"end_char\": ent.end_char,\n",
    "                \"label\": ent.label_,\n",
    "            }\n",
    "        )\n",
    "    return entities\n",
    "\n",
    "\n",
    "entity_nodes = []\n",
    "entity_id = 1\n",
    "for chunk in tqdm(chunk_nodes):\n",
    "    entities = get_entities(chunk[\"text\"])\n",
    "    for entity in entities:\n",
    "        entity_nodes.append(\n",
    "            {\n",
    "                \"id\": entity_id,\n",
    "                \"chunk_id\": chunk[\"id\"],\n",
    "                \"text\": entity[\"text\"],\n",
    "                \"start_char\": entity[\"start_char\"],\n",
    "                \"end_char\": entity[\"end_char\"],\n",
    "                \"label\": entity[\"label\"],\n",
    "            }\n",
    "        )\n",
    "        entity_id += 1"
   ]
  },
  {
   "cell_type": "code",
   "execution_count": 6,
   "metadata": {},
   "outputs": [
    {
     "data": {
      "text/plain": [
       "([{'id': 1,\n",
       "   'doc_id': 14616,\n",
       "   'text': 'On September 9, 2021, the youth plaintiffs Henrike Cremer, Jan Luca Samuel Salis, and Friedrich Hirschmann, supported by environmental organization Deutsche Umwelthilfe (DUH; Environmental Action Germany), brought a constitutional claim against the s'}],\n",
       " [{'id': 1,\n",
       "   'chunk_id': 1,\n",
       "   'text': 'September 9, 2021',\n",
       "   'start_char': 3,\n",
       "   'end_char': 20,\n",
       "   'label': 'date'},\n",
       "  {'id': 2,\n",
       "   'chunk_id': 1,\n",
       "   'text': 'Henrike Cremer',\n",
       "   'start_char': 43,\n",
       "   'end_char': 57,\n",
       "   'label': 'people'},\n",
       "  {'id': 3,\n",
       "   'chunk_id': 1,\n",
       "   'text': 'Jan Luca Samuel Salis',\n",
       "   'start_char': 59,\n",
       "   'end_char': 80,\n",
       "   'label': 'people'},\n",
       "  {'id': 4,\n",
       "   'chunk_id': 1,\n",
       "   'text': 'Friedrich Hirschmann',\n",
       "   'start_char': 86,\n",
       "   'end_char': 106,\n",
       "   'label': 'people'},\n",
       "  {'id': 5,\n",
       "   'chunk_id': 1,\n",
       "   'text': 'Deutsche Umwelthilfe',\n",
       "   'start_char': 148,\n",
       "   'end_char': 168,\n",
       "   'label': 'organization'},\n",
       "  {'id': 6,\n",
       "   'chunk_id': 1,\n",
       "   'text': 'DUH',\n",
       "   'start_char': 170,\n",
       "   'end_char': 173,\n",
       "   'label': 'organization'}])"
      ]
     },
     "execution_count": 6,
     "metadata": {},
     "output_type": "execute_result"
    }
   ],
   "source": [
    "entity_nodes_sample = [node for node in entity_nodes if node['chunk_id'] == 1]\n",
    "chunk_nodes_sample = [node for node in chunk_nodes if node['id'] == 1]\n",
    "chunk_nodes_sample,entity_nodes_sample\n"
   ]
  },
  {
   "cell_type": "code",
   "execution_count": 8,
   "metadata": {},
   "outputs": [],
   "source": [
    "# save the chunk and entities to pickle\n",
    "pickle.dump(chunk_nodes, open(\"./graph_data/chunk_nodes_sample.pkl\", \"wb\"))\n",
    "pickle.dump(entity_nodes, open(\"./graph_data/entity_nodes_sample.pkl\", \"wb\"))"
   ]
  }
 ],
 "metadata": {
  "kernelspec": {
   "display_name": "graph-6ebOGMnL-py3.12",
   "language": "python",
   "name": "python3"
  },
  "language_info": {
   "codemirror_mode": {
    "name": "ipython",
    "version": 3
   },
   "file_extension": ".py",
   "mimetype": "text/x-python",
   "name": "python",
   "nbconvert_exporter": "python",
   "pygments_lexer": "ipython3",
   "version": "3.12.7"
  }
 },
 "nbformat": 4,
 "nbformat_minor": 2
}
